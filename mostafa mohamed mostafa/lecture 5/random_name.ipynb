{
 "cells": [
  {
   "cell_type": "markdown",
   "metadata": {},
   "source": [
    "## Make project like Thanos project with data (50 images) to read all files and rename these files with random names.  "
   ]
  },
  {
   "cell_type": "code",
   "execution_count": 124,
   "metadata": {},
   "outputs": [],
   "source": [
    "import string\n",
    "import random\n",
    "def get_random_name():\n",
    "    letters=string.ascii_letters\n",
    "    string_random =''.join(random.choice(letters)for i in range(8))\n",
    "    return  string_random"
   ]
  },
  {
   "cell_type": "code",
   "execution_count": 125,
   "metadata": {},
   "outputs": [],
   "source": [
    "import os\n",
    "def read_fiels():\n",
    "    my_file=os.listdir(\"images\")\n",
    "    return my_file"
   ]
  },
  {
   "cell_type": "code",
   "execution_count": 126,
   "metadata": {},
   "outputs": [],
   "source": [
    "def file_rename(rename_file= read_fiels()):\n",
    "    saved_path = os.getcwd()\n",
    "    for i in range(len(rename_file)):\n",
    "        os.rename(f'images/{rename_file[i]}', f'images/{get_random_name()}.png')\n",
    "    os.chdir(saved_path)    \n",
    "        "
   ]
  },
  {
   "cell_type": "code",
   "execution_count": 127,
   "metadata": {},
   "outputs": [
    {
     "data": {
      "text/plain": [
       "['aLgCvzBI.png',\n",
       " 'bUdOkKQS.png',\n",
       " 'cAHKNsKo.png',\n",
       " 'CfPdABXV.png',\n",
       " 'CHGxgeBs.png',\n",
       " 'egYpEQrV.png',\n",
       " 'EIifVjfR.png',\n",
       " 'FCNqiEbg.png',\n",
       " 'flIBsZZc.png',\n",
       " 'glvXHhvl.png',\n",
       " 'GRTWDcEV.png',\n",
       " 'hPSYLKYf.png',\n",
       " 'HSWMldnb.png',\n",
       " 'HtSDesNq.png',\n",
       " 'iquhVzoq.png',\n",
       " 'iybVMpQf.png',\n",
       " 'JxOBSyiD.png',\n",
       " 'MLgPrKFn.png',\n",
       " 'OSDxcasz.png',\n",
       " 'PAWYiRWu.png',\n",
       " 'pKlfOzKV.png',\n",
       " 'pnpaoHLF.png',\n",
       " 'PrwcFcDX.png',\n",
       " 'QcMSDwya.png',\n",
       " 'qdueadeQ.png',\n",
       " 'QftHhRNJ.png',\n",
       " 'QXDCYxPo.png',\n",
       " 'QYtTvbSH.png',\n",
       " 'sMOcHNFk.png',\n",
       " 'SNGxBHBK.png',\n",
       " 'sVCBtiMe.png',\n",
       " 'TAxdZFTj.png',\n",
       " 'TfRSYljt.png',\n",
       " 'TLUTaWAZ.png',\n",
       " 'uPUqxNfM.png',\n",
       " 'veshhVtY.png',\n",
       " 'VjqFFwyL.png',\n",
       " 'VpTMspdo.png',\n",
       " 'wrRnqckh.png',\n",
       " 'wVxQTArR.png',\n",
       " 'xdyIwOUR.png',\n",
       " 'XiEDsOLZ.png',\n",
       " 'YhEZYuFY.png',\n",
       " 'YibMeTII.png',\n",
       " 'YIyvgFxY.png',\n",
       " 'YOxUDnRk.png',\n",
       " 'yWZqdIAk.png',\n",
       " 'YYvKLnQl.png',\n",
       " 'ZcZPqHzs.png',\n",
       " 'ZKYHAEhc.png']"
      ]
     },
     "execution_count": 127,
     "metadata": {},
     "output_type": "execute_result"
    }
   ],
   "source": [
    "file_rename()\n",
    "os.listdir(\"images\")"
   ]
  }
 ],
 "metadata": {
  "kernelspec": {
   "display_name": "Python 3",
   "language": "python",
   "name": "python3"
  },
  "language_info": {
   "codemirror_mode": {
    "name": "ipython",
    "version": 3
   },
   "file_extension": ".py",
   "mimetype": "text/x-python",
   "name": "python",
   "nbconvert_exporter": "python",
   "pygments_lexer": "ipython3",
   "version": "3.7.6"
  }
 },
 "nbformat": 4,
 "nbformat_minor": 4
}
